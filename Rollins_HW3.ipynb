{
 "cells": [
  {
   "cell_type": "code",
   "execution_count": 654,
   "metadata": {
    "collapsed": false
   },
   "outputs": [
    {
     "name": "stdout",
     "output_type": "stream",
     "text": [
      "*\n",
      "****\n",
      "*****\n"
     ]
    }
   ],
   "source": [
    "#Question 1: Define a procedure histogram() that takes a list of integers and prints a histogram to the screen.\n",
    "\n",
    "#Using function generate_n_chars from hw2...\n",
    "def generate_n_char(n,char): \n",
    "    '''Generates an integer n and a character, then returns a string of n characters long.'''\n",
    "    x=''\n",
    "    for i in range(n): #for the number in n\n",
    "        x=x+char #x will be returned n number of times\n",
    "    return x\n",
    "\n",
    "def histogram(list):\n",
    "    '''Creates list (parameter) of integers, and based on each value, prints them out in histogram form'''\n",
    "     \n",
    "    for x in list: #for each value in the list\n",
    "        char= generate_n_char(x,'*') #number of characters in each x value from the list is created\n",
    "        #for example if x=2 was in the list, then two characters would be created. \n",
    "        #for every value x on the list, x will be returned n number of times. x will then be replaced by *\n",
    "        print(char)\n",
    "    '''for each value in the list a \"*\" will print out for the value of each item in the list'''    \n",
    "histogram([1,4,5])\n"
   ]
  },
  {
   "cell_type": "code",
   "execution_count": 655,
   "metadata": {
    "collapsed": false
   },
   "outputs": [
    {
     "data": {
      "text/plain": [
       "300000"
      ]
     },
     "execution_count": 655,
     "metadata": {},
     "output_type": "execute_result"
    }
   ],
   "source": [
    "#Question 2: The function max() from exercise 1) and the function max_of_three() from exercise 2) will only work\n",
    "#for two and three numbers, respectively. But suppose we have a much larger number of numbers, or suppose we cannot \n",
    "#tell in advance how many they are? Write a function max_in_list() that takes a list of numbers and returns the \n",
    "#largest one.\n",
    "\n",
    "def max_in_list(list):\n",
    "    '''Function will find the highest value in the list. List of values is the parameter'''\n",
    "    max = 0 #start value at zero\n",
    "    for i in list: #for each number in the list\n",
    "        if i > max: #start iteration of each value in list for loop. \n",
    "            max = i #the loop will keep going for each value until it finds the largest i\n",
    "    return max\n",
    "\n",
    "max_in_list([1,200,43,5454,300000,1,90])\n"
   ]
  },
  {
   "cell_type": "code",
   "execution_count": 656,
   "metadata": {
    "collapsed": false
   },
   "outputs": [
    {
     "data": {
      "text/plain": [
       "[5, 6, 5]"
      ]
     },
     "execution_count": 656,
     "metadata": {},
     "output_type": "execute_result"
    }
   ],
   "source": [
    "#Question 3: Write a program that maps a list of words into a list of integers representing the lengths of the \n",
    "#corresponding words.\n",
    "\n",
    "def map_list(list):\n",
    "    '''Function will return the length (i.e. number of letters) for each word in the parameter (list)'''\n",
    "    ans=[]\n",
    "    for i in list: #for each word in the list\n",
    "        count=0 #starting at zero\n",
    "        for char in i: #this will account for all letters of each word\n",
    "            count+=1 #this will count the numbers in each word\n",
    "        ans.append(count) #this will add the count to the answer\n",
    "    return ans\n",
    "\n",
    "map_list([\"apple\", \"carmen\", \"tired\"])\n"
   ]
  },
  {
   "cell_type": "code",
   "execution_count": 657,
   "metadata": {
    "collapsed": false
   },
   "outputs": [
    {
     "data": {
      "text/plain": [
       "11"
      ]
     },
     "execution_count": 657,
     "metadata": {},
     "output_type": "execute_result"
    }
   ],
   "source": [
    "#Question 4: Write a function find_longest_word() that takes a list of words and returns the length of the longest one.\n",
    "\n",
    "def find_longest_word(list):\n",
    "    '''Function will find the longest word on a list and return the number of characters in the word\n",
    "    Parameter (list) is a list of words.\n",
    "    Using two functions from HW3 to find 1) map_list to find the length of each word in the list \n",
    "    and 2) return the highest value in the list to find the longest word\n",
    "    '''\n",
    "    long= max_in_list(map_list(list)) #as explained in docstring\n",
    "    for i in list: #for each value in the list\n",
    "        y=max_in_list(map_list(i)) #define y, which finds the longest word out of all the values on the list\n",
    "        if y > long: long= y #once y is larger than long we know we've found the longest word and make long equal to y\n",
    "    return long\n",
    "\n",
    "find_longest_word([\"apple\", \"happiness\", \"tired\", \"mathematics\"]) "
   ]
  },
  {
   "cell_type": "code",
   "execution_count": 658,
   "metadata": {
    "collapsed": false
   },
   "outputs": [
    {
     "data": {
      "text/plain": [
       "['happiness', 'mathematics']"
      ]
     },
     "execution_count": 658,
     "metadata": {},
     "output_type": "execute_result"
    }
   ],
   "source": [
    "#Question 5: Write a function filter_long_words() that takes a list of words and an integer n and returns the list of\n",
    "#words that are longer than n.\n",
    "\n",
    "def mylen(n):\n",
    "    \"\"\"This function will compute the length of a given list or string n\"\"\"\n",
    "    count = 0 #set count to zero\n",
    "    for i in n: #for each letter/string (i) in n\n",
    "        count=count+1   #this will count how many strings (i) are in n\n",
    "    return (count)\n",
    "    \n",
    "def filter_long_words(string,number):\n",
    "    \"\"\"This function will take a list of words and an integer n, and return the list of words longer than n\n",
    "    it will use the function mylen(n) from HW2 to count the length of each word\n",
    "    \"\"\"\n",
    "    ans = [] #blank set for answer\n",
    "    for i in range(mylen(string)): #for each word in the string mylen function counts the number of letters \n",
    "        if mylen(string[i]) > number: #if a word in the string is larger than the number n \n",
    "            ans.append(string[i]) #it will return these words to the blank set so it can print the answer\n",
    "    return ans\n",
    "filter_long_words([\"apple\", \"happiness\", \"tired\", \"mathematics\"],8)"
   ]
  },
  {
   "cell_type": "code",
   "execution_count": 659,
   "metadata": {
    "collapsed": false
   },
   "outputs": [
    {
     "data": {
      "text/plain": [
       "True"
      ]
     },
     "execution_count": 659,
     "metadata": {},
     "output_type": "execute_result"
    }
   ],
   "source": [
    "#Question 6: Write a version of a palindrome recognizer that also accepts phrase palindromes such as \"Go hang a \n",
    "#salami I'm a lasagna hog.\", \"Was it a rat I saw?\", \"Step on no pets\", \"Sit on a potato pan, Otis\", \"Lisa Bonet ate\n",
    "#no basil\", \"Rise to vote sir\", or the exclamation \"Dammit, I'm mad!\". Note that punctuation, capitalization, and \n",
    "#spacing are usually ignored.\n",
    "\n",
    "\n",
    "def is_palindrome_phrase(list):\n",
    "    \"\"\"This function will recgonize palindrome phrases \n",
    "    Parameter: 'list' is the paramter, which can be any statement (of words) entered below as \"list=\"\n",
    "    \"\"\"\n",
    "    if list==list[::-1]: #this is checking if the list reversed is equal to the list\n",
    "        return True #if it is equal to list, it will return true\n",
    "    else:\n",
    "        return False #if not, it will return false\n",
    "list=[\"was it a rat i saw?\"] #enter phrase here\n",
    "is_palindrome_phrase(list)"
   ]
  },
  {
   "cell_type": "code",
   "execution_count": 660,
   "metadata": {
    "collapsed": false
   },
   "outputs": [
    {
     "data": {
      "text/plain": [
       "True"
      ]
     },
     "execution_count": 660,
     "metadata": {},
     "output_type": "execute_result"
    }
   ],
   "source": [
    "#Question 7: A pangram is a sentence that contains all the letters of the English alphabet at least once, for example:\n",
    "#The quick brown fox jumps over the lazy dog. Your task here is to write a function to check a sentence to see if it\n",
    "#is a pangram or not.\n",
    "\n",
    "def pangram(sentence):\n",
    "    \"\"\"This function will check if the parameter (all) is a panagram sentence and return either true\n",
    "    or false to let us know if it is a panagram or not.\n",
    "    The paramater (all) is a list of words\"\"\"\n",
    "    alpha = \"abcdefghijklmnopqrstuvwxyz\" #alphabet is defined here\n",
    "    for i in alpha: #for each letter in the alphabet\n",
    "        if i not in sentence: #if a letter of the alphabet is not in the sentence (parameter)\n",
    "            return False #the function will return false\n",
    "\n",
    "    else: return True #if all letters of the alphabet are in the sentence, the function will return true\n",
    "            \n",
    "pangram(\"The quick brown fox jumps over the lazy dog\")"
   ]
  },
  {
   "cell_type": "code",
   "execution_count": 661,
   "metadata": {
    "collapsed": false
   },
   "outputs": [
    {
     "name": "stdout",
     "output_type": "stream",
     "text": [
      "99 bottles of coke on the wall, 99 bottles of coke.\n",
      "Take one down, pass it around, 98 bottles of coke on the wall\n",
      "98 bottles of coke on the wall, 98 bottles of coke.\n",
      "Take one down, pass it around, 97 bottles of coke on the wall\n",
      "97 bottles of coke on the wall, 97 bottles of coke.\n",
      "Take one down, pass it around, 96 bottles of coke on the wall\n",
      "96 bottles of coke on the wall, 96 bottles of coke.\n",
      "Take one down, pass it around, 95 bottles of coke on the wall\n",
      "95 bottles of coke on the wall, 95 bottles of coke.\n",
      "Take one down, pass it around, 94 bottles of coke on the wall\n",
      "94 bottles of coke on the wall, 94 bottles of coke.\n",
      "Take one down, pass it around, 93 bottles of coke on the wall\n",
      "93 bottles of coke on the wall, 93 bottles of coke.\n",
      "Take one down, pass it around, 92 bottles of coke on the wall\n",
      "92 bottles of coke on the wall, 92 bottles of coke.\n",
      "Take one down, pass it around, 91 bottles of coke on the wall\n",
      "91 bottles of coke on the wall, 91 bottles of coke.\n",
      "Take one down, pass it around, 90 bottles of coke on the wall\n",
      "90 bottles of coke on the wall, 90 bottles of coke.\n",
      "Take one down, pass it around, 89 bottles of coke on the wall\n",
      "89 bottles of coke on the wall, 89 bottles of coke.\n",
      "Take one down, pass it around, 88 bottles of coke on the wall\n",
      "88 bottles of coke on the wall, 88 bottles of coke.\n",
      "Take one down, pass it around, 87 bottles of coke on the wall\n",
      "87 bottles of coke on the wall, 87 bottles of coke.\n",
      "Take one down, pass it around, 86 bottles of coke on the wall\n",
      "86 bottles of coke on the wall, 86 bottles of coke.\n",
      "Take one down, pass it around, 85 bottles of coke on the wall\n",
      "85 bottles of coke on the wall, 85 bottles of coke.\n",
      "Take one down, pass it around, 84 bottles of coke on the wall\n",
      "84 bottles of coke on the wall, 84 bottles of coke.\n",
      "Take one down, pass it around, 83 bottles of coke on the wall\n",
      "83 bottles of coke on the wall, 83 bottles of coke.\n",
      "Take one down, pass it around, 82 bottles of coke on the wall\n",
      "82 bottles of coke on the wall, 82 bottles of coke.\n",
      "Take one down, pass it around, 81 bottles of coke on the wall\n",
      "81 bottles of coke on the wall, 81 bottles of coke.\n",
      "Take one down, pass it around, 80 bottles of coke on the wall\n",
      "80 bottles of coke on the wall, 80 bottles of coke.\n",
      "Take one down, pass it around, 79 bottles of coke on the wall\n",
      "79 bottles of coke on the wall, 79 bottles of coke.\n",
      "Take one down, pass it around, 78 bottles of coke on the wall\n",
      "78 bottles of coke on the wall, 78 bottles of coke.\n",
      "Take one down, pass it around, 77 bottles of coke on the wall\n",
      "77 bottles of coke on the wall, 77 bottles of coke.\n",
      "Take one down, pass it around, 76 bottles of coke on the wall\n",
      "76 bottles of coke on the wall, 76 bottles of coke.\n",
      "Take one down, pass it around, 75 bottles of coke on the wall\n",
      "75 bottles of coke on the wall, 75 bottles of coke.\n",
      "Take one down, pass it around, 74 bottles of coke on the wall\n",
      "74 bottles of coke on the wall, 74 bottles of coke.\n",
      "Take one down, pass it around, 73 bottles of coke on the wall\n",
      "73 bottles of coke on the wall, 73 bottles of coke.\n",
      "Take one down, pass it around, 72 bottles of coke on the wall\n",
      "72 bottles of coke on the wall, 72 bottles of coke.\n",
      "Take one down, pass it around, 71 bottles of coke on the wall\n",
      "71 bottles of coke on the wall, 71 bottles of coke.\n",
      "Take one down, pass it around, 70 bottles of coke on the wall\n",
      "70 bottles of coke on the wall, 70 bottles of coke.\n",
      "Take one down, pass it around, 69 bottles of coke on the wall\n",
      "69 bottles of coke on the wall, 69 bottles of coke.\n",
      "Take one down, pass it around, 68 bottles of coke on the wall\n",
      "68 bottles of coke on the wall, 68 bottles of coke.\n",
      "Take one down, pass it around, 67 bottles of coke on the wall\n",
      "67 bottles of coke on the wall, 67 bottles of coke.\n",
      "Take one down, pass it around, 66 bottles of coke on the wall\n",
      "66 bottles of coke on the wall, 66 bottles of coke.\n",
      "Take one down, pass it around, 65 bottles of coke on the wall\n",
      "65 bottles of coke on the wall, 65 bottles of coke.\n",
      "Take one down, pass it around, 64 bottles of coke on the wall\n",
      "64 bottles of coke on the wall, 64 bottles of coke.\n",
      "Take one down, pass it around, 63 bottles of coke on the wall\n",
      "63 bottles of coke on the wall, 63 bottles of coke.\n",
      "Take one down, pass it around, 62 bottles of coke on the wall\n",
      "62 bottles of coke on the wall, 62 bottles of coke.\n",
      "Take one down, pass it around, 61 bottles of coke on the wall\n",
      "61 bottles of coke on the wall, 61 bottles of coke.\n",
      "Take one down, pass it around, 60 bottles of coke on the wall\n",
      "60 bottles of coke on the wall, 60 bottles of coke.\n",
      "Take one down, pass it around, 59 bottles of coke on the wall\n",
      "59 bottles of coke on the wall, 59 bottles of coke.\n",
      "Take one down, pass it around, 58 bottles of coke on the wall\n",
      "58 bottles of coke on the wall, 58 bottles of coke.\n",
      "Take one down, pass it around, 57 bottles of coke on the wall\n",
      "57 bottles of coke on the wall, 57 bottles of coke.\n",
      "Take one down, pass it around, 56 bottles of coke on the wall\n",
      "56 bottles of coke on the wall, 56 bottles of coke.\n",
      "Take one down, pass it around, 55 bottles of coke on the wall\n",
      "55 bottles of coke on the wall, 55 bottles of coke.\n",
      "Take one down, pass it around, 54 bottles of coke on the wall\n",
      "54 bottles of coke on the wall, 54 bottles of coke.\n",
      "Take one down, pass it around, 53 bottles of coke on the wall\n",
      "53 bottles of coke on the wall, 53 bottles of coke.\n",
      "Take one down, pass it around, 52 bottles of coke on the wall\n",
      "52 bottles of coke on the wall, 52 bottles of coke.\n",
      "Take one down, pass it around, 51 bottles of coke on the wall\n",
      "51 bottles of coke on the wall, 51 bottles of coke.\n",
      "Take one down, pass it around, 50 bottles of coke on the wall\n",
      "50 bottles of coke on the wall, 50 bottles of coke.\n",
      "Take one down, pass it around, 49 bottles of coke on the wall\n",
      "49 bottles of coke on the wall, 49 bottles of coke.\n",
      "Take one down, pass it around, 48 bottles of coke on the wall\n",
      "48 bottles of coke on the wall, 48 bottles of coke.\n",
      "Take one down, pass it around, 47 bottles of coke on the wall\n",
      "47 bottles of coke on the wall, 47 bottles of coke.\n",
      "Take one down, pass it around, 46 bottles of coke on the wall\n",
      "46 bottles of coke on the wall, 46 bottles of coke.\n",
      "Take one down, pass it around, 45 bottles of coke on the wall\n",
      "45 bottles of coke on the wall, 45 bottles of coke.\n",
      "Take one down, pass it around, 44 bottles of coke on the wall\n",
      "44 bottles of coke on the wall, 44 bottles of coke.\n",
      "Take one down, pass it around, 43 bottles of coke on the wall\n",
      "43 bottles of coke on the wall, 43 bottles of coke.\n",
      "Take one down, pass it around, 42 bottles of coke on the wall\n",
      "42 bottles of coke on the wall, 42 bottles of coke.\n",
      "Take one down, pass it around, 41 bottles of coke on the wall\n",
      "41 bottles of coke on the wall, 41 bottles of coke.\n",
      "Take one down, pass it around, 40 bottles of coke on the wall\n",
      "40 bottles of coke on the wall, 40 bottles of coke.\n",
      "Take one down, pass it around, 39 bottles of coke on the wall\n",
      "39 bottles of coke on the wall, 39 bottles of coke.\n",
      "Take one down, pass it around, 38 bottles of coke on the wall\n",
      "38 bottles of coke on the wall, 38 bottles of coke.\n",
      "Take one down, pass it around, 37 bottles of coke on the wall\n",
      "37 bottles of coke on the wall, 37 bottles of coke.\n",
      "Take one down, pass it around, 36 bottles of coke on the wall\n",
      "36 bottles of coke on the wall, 36 bottles of coke.\n",
      "Take one down, pass it around, 35 bottles of coke on the wall\n",
      "35 bottles of coke on the wall, 35 bottles of coke.\n",
      "Take one down, pass it around, 34 bottles of coke on the wall\n",
      "34 bottles of coke on the wall, 34 bottles of coke.\n",
      "Take one down, pass it around, 33 bottles of coke on the wall\n",
      "33 bottles of coke on the wall, 33 bottles of coke.\n",
      "Take one down, pass it around, 32 bottles of coke on the wall\n",
      "32 bottles of coke on the wall, 32 bottles of coke.\n",
      "Take one down, pass it around, 31 bottles of coke on the wall\n",
      "31 bottles of coke on the wall, 31 bottles of coke.\n",
      "Take one down, pass it around, 30 bottles of coke on the wall\n",
      "30 bottles of coke on the wall, 30 bottles of coke.\n",
      "Take one down, pass it around, 29 bottles of coke on the wall\n",
      "29 bottles of coke on the wall, 29 bottles of coke.\n",
      "Take one down, pass it around, 28 bottles of coke on the wall\n",
      "28 bottles of coke on the wall, 28 bottles of coke.\n",
      "Take one down, pass it around, 27 bottles of coke on the wall\n",
      "27 bottles of coke on the wall, 27 bottles of coke.\n",
      "Take one down, pass it around, 26 bottles of coke on the wall\n",
      "26 bottles of coke on the wall, 26 bottles of coke.\n",
      "Take one down, pass it around, 25 bottles of coke on the wall\n",
      "25 bottles of coke on the wall, 25 bottles of coke.\n",
      "Take one down, pass it around, 24 bottles of coke on the wall\n",
      "24 bottles of coke on the wall, 24 bottles of coke.\n",
      "Take one down, pass it around, 23 bottles of coke on the wall\n",
      "23 bottles of coke on the wall, 23 bottles of coke.\n",
      "Take one down, pass it around, 22 bottles of coke on the wall\n",
      "22 bottles of coke on the wall, 22 bottles of coke.\n",
      "Take one down, pass it around, 21 bottles of coke on the wall\n",
      "21 bottles of coke on the wall, 21 bottles of coke.\n",
      "Take one down, pass it around, 20 bottles of coke on the wall\n",
      "20 bottles of coke on the wall, 20 bottles of coke.\n",
      "Take one down, pass it around, 19 bottles of coke on the wall\n",
      "19 bottles of coke on the wall, 19 bottles of coke.\n",
      "Take one down, pass it around, 18 bottles of coke on the wall\n",
      "18 bottles of coke on the wall, 18 bottles of coke.\n",
      "Take one down, pass it around, 17 bottles of coke on the wall\n",
      "17 bottles of coke on the wall, 17 bottles of coke.\n",
      "Take one down, pass it around, 16 bottles of coke on the wall\n",
      "16 bottles of coke on the wall, 16 bottles of coke.\n",
      "Take one down, pass it around, 15 bottles of coke on the wall\n",
      "15 bottles of coke on the wall, 15 bottles of coke.\n",
      "Take one down, pass it around, 14 bottles of coke on the wall\n",
      "14 bottles of coke on the wall, 14 bottles of coke.\n",
      "Take one down, pass it around, 13 bottles of coke on the wall\n",
      "13 bottles of coke on the wall, 13 bottles of coke.\n",
      "Take one down, pass it around, 12 bottles of coke on the wall\n",
      "12 bottles of coke on the wall, 12 bottles of coke.\n",
      "Take one down, pass it around, 11 bottles of coke on the wall\n",
      "11 bottles of coke on the wall, 11 bottles of coke.\n",
      "Take one down, pass it around, 10 bottles of coke on the wall\n",
      "10 bottles of coke on the wall, 10 bottles of coke.\n",
      "Take one down, pass it around, 9 bottles of coke on the wall\n",
      "9 bottles of coke on the wall, 9 bottles of coke.\n",
      "Take one down, pass it around, 8 bottles of coke on the wall\n",
      "8 bottles of coke on the wall, 8 bottles of coke.\n",
      "Take one down, pass it around, 7 bottles of coke on the wall\n",
      "7 bottles of coke on the wall, 7 bottles of coke.\n",
      "Take one down, pass it around, 6 bottles of coke on the wall\n",
      "6 bottles of coke on the wall, 6 bottles of coke.\n",
      "Take one down, pass it around, 5 bottles of coke on the wall\n",
      "5 bottles of coke on the wall, 5 bottles of coke.\n",
      "Take one down, pass it around, 4 bottles of coke on the wall\n",
      "4 bottles of coke on the wall, 4 bottles of coke.\n",
      "Take one down, pass it around, 3 bottles of coke on the wall\n",
      "3 bottles of coke on the wall, 3 bottles of coke.\n",
      "Take one down, pass it around, 2 bottles of coke on the wall\n",
      "2 bottles of coke on the wall, 2 bottles of coke.\n",
      "Take one down, pass it around, 1 bottles of coke on the wall\n",
      "1 bottles of coke on the wall, 1 bottles of coke.\n",
      "Take one down, pass it around, 0 bottles of coke on the wall\n",
      "0 bottles of coke on the wall, 0 bottles of coke.\n",
      "Take one down, pass it around, -1 bottles of coke on the wall\n"
     ]
    }
   ],
   "source": [
    "#Question 8: \"99 Bottles of Coke\" is a traditional song in the United States and Canada. It is popular to sing on \n",
    "#long trips, as it has a very repetitive format which is easy to memorize, and can take a long time to sing. \n",
    "#The song's simple lyrics are as follows:\n",
    "#99 bottles of coke on the wall, 99 bottles of coke.\n",
    "#Take one down, pass it around, 98 bottles of coke on the wall.\n",
    "#The same verse is repeated, each time with one fewer bottle. The song is completed when the singer or singers reach\n",
    "#zero. Your task here is write a Python program capable of generating all the verses of the song.\n",
    "\n",
    "def ninety_nine_bottles():\n",
    "    \"\"\"This function will generate all the versus to the song '99 bottles of coke'\n",
    "    the parameter is blank (i.e. no parameter) as once this function is entered it \n",
    "    will automatically generate the entire song\"\"\"\n",
    "    count=99 #start at 99 (the song starts at 99 bottles)\n",
    "    while count >= 0: #loop will run until count is greater or equal to zero (i.e. it will run from 99-0)\n",
    "        #this loop will print the blow, which for each iteration has the current count (and count-1 for the\n",
    "        #second line) \n",
    "        print (str(count) + \" bottles of coke on the wall, \" + str(count) + \" bottles of coke.\")\n",
    "        print (\"Take one down, pass it around, \" + str(count-1) + \" bottles of coke on the wall\")\n",
    "        count-=1\n",
    "        \n",
    "ninety_nine_bottles()"
   ]
  },
  {
   "cell_type": "code",
   "execution_count": 662,
   "metadata": {
    "collapsed": false
   },
   "outputs": [
    {
     "data": {
      "text/plain": [
       "['god', 'jul', 'och', 'gott', 'nytt', 'år']"
      ]
     },
     "execution_count": 662,
     "metadata": {},
     "output_type": "execute_result"
    }
   ],
   "source": [
    "#Question 9: Represent a small bilingual lexicon as a Python dictionary in the following fashion {\"merry\":\"god\", \n",
    "#\"christmas\":\"jul\", \"and\":\"och\", \"happy\":gott\", \"new\":\"nytt\", \"year\":\"år\"} and use it to translate your Christmas cards\n",
    "#from English into Swedish. That is, write a function translate() that takes a list of English words and returns a \n",
    "#list of Swedish words.\n",
    "def translate(words):\n",
    "    \"\"\"This function will translate a list of English words to 'Swedish.\n",
    "    Parameter (words) is a list of English words that will be translated \n",
    "    into Swedish based on the below dictionary'\"\"\"\n",
    "    #dictionary for translation\n",
    "    dic={\"merry\":\"god\", \"christmas\":\"jul\", \"and\":\"och\", \"happy\":\"gott\",\"new\":\"nytt\", \"year\":\"år\"} \n",
    "    swedish=[] #leave empty\n",
    "    for i in words: #for each word in the 'words' (the parameter or list of words)\n",
    "        if i in dict: #if there is a word from the dictionary in words parameter\n",
    "             swedish.append(dic[i]) #then it will be replaced with the dictionary word \n",
    "    return swedish\n",
    "    \n",
    "translate([\"merry\", \"christmas\", \"and\" ,\"happy\", \"new\", \"year\"])"
   ]
  },
  {
   "cell_type": "code",
   "execution_count": 667,
   "metadata": {
    "collapsed": false
   },
   "outputs": [
    {
     "data": {
      "text/plain": [
       "{'a': 9, 'b': 8}"
      ]
     },
     "execution_count": 667,
     "metadata": {},
     "output_type": "execute_result"
    }
   ],
   "source": [
    "#Question 10: Write a function char_freq() that takes a string and builds a frequency listing of the characters \n",
    "#contained in it. Represent the frequency listing as a Python dictionary. Try it with something like \n",
    "#char_freq(\"abbabcbdbabdbdbabababcbcbab\").\n",
    "\n",
    "def char_freq(n):\n",
    "    \"\"\"Function will count the frequency of each characters in a given string for parameter n.\n",
    "    Parameter n can be any characters (such as \"abcdefg\" etc.)\"\"\"\n",
    "    char = {} #leave blank\n",
    "    \n",
    "    for i in n: #for each character (i.e. letter) in the parameter n\n",
    "        keys=char.keys() #this will link each characters in 'char' with \n",
    "        \n",
    "        #for each letter found in keys, when the same character appears the count will increase by 1\n",
    "        #this means for each character it will keep adding 1 if it is the same character\n",
    "        if i in keys:\n",
    "            char[i]+=1\n",
    "        else:\n",
    "            char[i]=1 #if there is not more than one charater\n",
    "    return (char)\n",
    "\n",
    "char_freq(\"aabbababababababa\")\n",
    "\n"
   ]
  },
  {
   "cell_type": "code",
   "execution_count": 668,
   "metadata": {
    "collapsed": false
   },
   "outputs": [
    {
     "data": {
      "text/plain": [
       "'Caesar cipher? I much prefer Caesar salad!'"
      ]
     },
     "execution_count": 668,
     "metadata": {},
     "output_type": "execute_result"
    }
   ],
   "source": [
    "#Question 11: n cryptography, a Caesar cipher is a very simple encryption techniques in which each letter in the plain \n",
    "#text is replaced by a letter some fixed number of positions down the alphabet. For example, with a shift of 3, A \n",
    "#would be replaced by D, B would become E, and so on. The method is named after Julius Caesar, who used it to \n",
    "#communicate with his generals. ROT-13 (\"rotate by 13 places\") is a widely used example of a Caesar cipher where the \n",
    "#shift is 13. In Python, the key for ROT-13 may be represented by means of the following dictionary:\n",
    "#key = {'a':'n', 'b':'o', 'c':'p', 'd':'q', 'e':'r', 'f':'s', 'g':'t', 'h':'u', 'i':'v', 'j':'w', 'k':'x', 'l':'y', \n",
    "#'m':'z', 'n':'a', 'o':'b', 'p':'c', 'q':'d', 'r':'e', 's':'f', 't':'g', 'u':'h', 'v':'i', 'w':'j', 'x':'k', 'y':'l', \n",
    "#'z':'m', 'A':'N', 'B':'O', 'C':'P', 'D':'Q', 'E':'R', 'F':'S', 'G':'T', 'H':'U', 'I':'V', 'J':'W', 'K':'X', 'L':'Y', \n",
    "#'M':'Z', 'N':'A', 'O':'B', 'P':'C', 'Q':'D', 'R':'E', 'S':'F', 'T':'G', 'U':'H', 'V':'I', 'W':'J', 'X':'K', 'Y':'L', \n",
    "#'Z':'M'}\n",
    "#Your task in this exercise is to implement an encoder/decoder of ROT-13. Once you're done, you will be able to read \n",
    "#the following secret message: Pnrfne pvcure? V zhpu cersre Pnrfne fnynq!\n",
    "#Note that since English has 26 characters, your ROT-13 program will be able to both encode and decode texts written \n",
    "#in English.\n",
    "\n",
    "def ROT13(code):\n",
    "    \"\"\"This function will decode ROT-13, named after Julius Caesar, who used it to communicate with his generals.\n",
    "    Parameter (code): each letter in the plain text is replaced by a letter some fixed number of positions down \n",
    "    the alphabet. For example, with a shift of 3, A would be replaced by D, B would become E, and so on.\"\"\"\n",
    "    result=\"\"\n",
    "    key = {'a':'n', 'b':'o', 'c':'p', 'd':'q', 'e':'r', 'f':'s', 'g':'t', 'h':'u', 'i':'v', 'j':'w', 'k':'x', 'l':'y', \n",
    "        'm':'z', 'n':'a', 'o':'b', 'p':'c', 'q':'d', 'r':'e', 's':'f', 't':'g', 'u':'h', 'v':'i', 'w':'j', 'x':'k', \n",
    "        'y':'l', 'z':'m', 'A':'N', 'B':'O', 'C':'P', 'D':'Q', 'E':'R', 'F':'S', 'G':'T', 'H':'U', 'I':'V', 'J':'W',\n",
    "        'K':'X', 'L':'Y','M':'Z', 'N':'A', 'O':'B', 'P':'C', 'Q':'D', 'R':'E', 'S':'F', 'T':'G', 'U':'H', 'V':'I', \n",
    "        'W':'J', 'X':'K', 'Y':'L', 'Z':'M'}\n",
    "    for i in code: \n",
    "        if i in key: \n",
    "            result+= key[i] \n",
    "    #for each letter in the parameter (code), if the letter is found in the key (i.e. any letter of the alphabet)\n",
    "    #the letter in code will be replaced with the key (i.e. a would be replaced by n, and so on)\n",
    "        else: result+=i #if there is something not in key (such as a space or ?) the result will remain the same\n",
    "    return result\n",
    " \n",
    "ROT13(\"Pnrfne pvcure? V zhpu cersre Pnrfne fnynq!\")"
   ]
  },
  {
   "cell_type": "code",
   "execution_count": 670,
   "metadata": {
    "collapsed": false
   },
   "outputs": [
    {
     "name": "stdout",
     "output_type": "stream",
     "text": [
      "This is very funny and cool. Indeed!\n"
     ]
    }
   ],
   "source": [
    "#Question 12: Define a simple \"spelling correction\" function correct() that takes a string and sees to it that\n",
    "#1) two or more occurrences of the space character is compressed into one, and \n",
    "#2) inserts an extra space after a period if the period is directly followed by a letter. \n",
    "#E.g. correct(\"This is very funny and cool.Indeed!\") should return \"This is very funny and cool. Indeed!\"\n",
    "\n",
    "def correct(phrase):\n",
    "    \"\"\"This function will takes a phrase from a string to correct simple spelling errors.\n",
    "     Function will compress multiple space characters into one, and inserts an extra space\n",
    "     after a period if the period is directly followed by a letter. \"\"\"\n",
    "    correct='' #blank set for the \n",
    "    \n",
    "    #this next command will remove extra spaces in the phrase (parameter). \n",
    "    #re.sub for '\\+' matches a space (or more) with just one space: (' ')\n",
    "    correct = re.sub('\\ +',' ',phrase) \n",
    "    \n",
    "    #this next command will remove an extra space after a period in the phrase (parameter)\n",
    "    #re.sub for '\\.' looks for anywhere there is no space after a period and will add a space: ('. ')\n",
    "    correct = re.sub('\\.','. ',correct)\n",
    " \n",
    "    print(correct)\n",
    "    \n",
    "correct(\"This is very funny and    cool.Indeed!\")\n"
   ]
  },
  {
   "cell_type": "code",
   "execution_count": 671,
   "metadata": {
    "collapsed": false
   },
   "outputs": [
    {
     "name": "stdout",
     "output_type": "stream",
     "text": [
      "eats\n",
      "sleeps\n",
      "beauties\n",
      "labors\n"
     ]
    }
   ],
   "source": [
    "#Question 13: The third person singular verb form in English is distinguished by the suffix -s, which is added to the \n",
    "#stem of the infinitive form: run -> runs. A simple set of rules can be given as follows:\n",
    "#• If the verb ends in y, remove it and add ies\n",
    "#• If the verb ends in o,ch,s,sh,x or z,add es\n",
    "#• By default just add s\n",
    "#Your task in this exercise is to define a function make_3sg_form() which given a verb in infinitive form returns its\n",
    "#third person singular form. Test your function with words like try, brush, run and fix. Note however that the rules \n",
    "#must be regarded as heuristic, in the sense that you must not expect them to work for all cases. \n",
    "#Tip: Check out the string method endswith().\n",
    "\n",
    "\n",
    "def make_3sg_form(word):\n",
    "    \"\"\"This function will returns a third person singular form verb from the parameter.\n",
    "    The parameter must be a verb in the infinitive form, i.e. eat, sleep, run, etc.\"\"\"\n",
    "    if word.endswith('y'): #checks the last letter of the word for the letter 'y'\n",
    "        word = word[:-1] + \"ies\" #will take off the last letter of the word and add 'ies'\n",
    "    elif word.endswith( ('o' or 'ch'or 's'or'sh' or 'x'or 'z')): \n",
    "        #checks the last letter of the word for letters o,ch,s,sh,x or z\n",
    "        word += 'es' #ads 'es' to the word\n",
    "    else: #all other words will just have the letter 's' added on to the end of it.\n",
    "        word += 's'\n",
    "    print (word)\n",
    "    \n",
    "make_3sg_form('eat')\n",
    "make_3sg_form('sleep')\n",
    "make_3sg_form('beauty')\n",
    "make_3sg_form('labor')"
   ]
  },
  {
   "cell_type": "code",
   "execution_count": 672,
   "metadata": {
    "collapsed": false
   },
   "outputs": [
    {
     "name": "stdout",
     "output_type": "stream",
     "text": [
      "being\n",
      "kneeing\n",
      "flying\n"
     ]
    }
   ],
   "source": [
    "#Question 14: In English, the present participle is formed by adding the suffix -ing to the infinite form: go -> going.\n",
    "#A simple set of heuristic rules can be given as follows:\n",
    "#• If the verb ends in e, drop the e and add ing (if not exception: be, see, flee, knee, etc.)\n",
    "#• If the verb ends in ie, change ie to y and add ing\n",
    "#• For words consisting of consonant-vowel-consonant, double the final letter before adding ing\n",
    "#• By default just add ing\n",
    "#Your task in this exercise is to define a function make_ing_form() which given a verb in infinitive form returns its\n",
    "#present participle form. Test your function with words such as lie, see, move and hug. However, you must not expect \n",
    "#such simple rules to work for all cases.\n",
    "\n",
    "\n",
    "def make_ing_form(word):\n",
    "    \"\"\"This function will return a verb (word) into present participle form. \n",
    "    The parameter is 'word', the verb there will be changed. \"\"\"\n",
    "    vowels= ['a','e','i','o','u'] #here are the vowels \n",
    "    \n",
    "    #if the word ends with 'ie', \n",
    "    #delete the last two letters of the word and add \"ying\"\n",
    "    if word.endswith('ie'): \n",
    "        return word[:-2] + 'ying' \n",
    "    \n",
    "    #if the word ends with 'e'd but not 'ie', 'ee', or not equal to the word 'be', \n",
    "    #delete the last letter and add 'ing'\n",
    "    elif word.endswith('e') and not word.endswith('ie') and not word.endswith('ee') and not word=='be':\n",
    "        return word[:-1]+'ing'\n",
    "    \n",
    "    #if the word (deleting the last 2-3 letters) is not in vowels \n",
    "    #and the word (delete the last one to two letters)\n",
    "    #and the world (delete the last letter of word) is not in word,\n",
    "    #then delete the last letter and add 'ing'\n",
    "    elif word[-3:-2] not in vowels and word[-2:-1] in vowels and word[-1:] not in word:\n",
    "        return word[-1:] + \"ing\"\n",
    "    \n",
    "    else: #if none of the above conditions apply, just add 'ing' to the word\n",
    "        word += \"ing\"\n",
    "    print (word)\n",
    "\n",
    "\n",
    "make_ing_form('be')\n",
    "make_ing_form('knee')\n",
    "make_ing_form('fly')"
   ]
  },
  {
   "cell_type": "code",
   "execution_count": null,
   "metadata": {
    "collapsed": true
   },
   "outputs": [],
   "source": [
    "def ROT13(code):\n",
    "    key = {'a':'n', 'b':'o', 'c':'p', 'd':'q', 'e':'r', 'f':'s', 'g':'t', 'h':'u', 'i':'v', 'j':'w', 'k':'x', 'l':'y', \n",
    "        'm':'z', 'n':'a', 'o':'b', 'p':'c', 'q':'d', 'r':'e', 's':'f', 't':'g', 'u':'h', 'v':'i', 'w':'j', 'x':'k', \n",
    "        'y':'l', 'z':'m', 'A':'N', 'B':'O', 'C':'P', 'D':'Q', 'E':'R', 'F':'S', 'G':'T', 'H':'U', 'I':'V', 'J':'W',\n",
    "        'K':'X', 'L':'Y','M':'Z', 'N':'A', 'O':'B', 'P':'C', 'Q':'D', 'R':'E', 'S':'F', 'T':'G', 'U':'H', 'V':'I', \n",
    "        'W':'J', 'X':'K', 'Y':'L', 'Z':'M'}\n",
    "    alpha = 'ABCDEFGHIJKLMNOPQRSTUVWXYZabcdefghijklmnopqrstuvwxyz'\n",
    "    rot = 'NOPQRSTUVWXYZABCDEFGHIJKLMnopqrstuvwxyzabcdefghijklm'\n",
    "    result=[]\n",
    "    for i in str(code):\n",
    "        if i in key and i in rot:\n",
    "            result= re.sub('rot[i]','alpha[i]',code)\n",
    "    return code\n",
    " \n",
    "ROT13(\"Pnrfne pvcure? V zhpu cersre Pnrfne fnynq!\")"
   ]
  }
 ],
 "metadata": {
  "kernelspec": {
   "display_name": "Python 3",
   "language": "python",
   "name": "python3"
  },
  "language_info": {
   "codemirror_mode": {
    "name": "ipython",
    "version": 3
   },
   "file_extension": ".py",
   "mimetype": "text/x-python",
   "name": "python",
   "nbconvert_exporter": "python",
   "pygments_lexer": "ipython3",
   "version": "3.5.1"
  }
 },
 "nbformat": 4,
 "nbformat_minor": 0
}
