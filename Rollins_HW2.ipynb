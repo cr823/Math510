{
 "cells": [
  {
   "cell_type": "code",
   "execution_count": null,
   "metadata": {
    "collapsed": true
   },
   "outputs": [],
   "source": [
    "#Question 1: Define a function ‘fib’ that takes a number, ‘n’, as a parameter and prints all the Fibonacci numbers \n",
    "#less than ‘n’ to the screen.\n",
    "def fib(n):\n",
    "    a, b = 0, 1\n",
    "    if n== 0: return 0 #the first number should be zero\n",
    "    if n== 1: return 1 #second number should be 1\n",
    "    while a < n: #run until n is larger than a\n",
    "         a, b = b, a+b # for loop, a=b and b=a+b, then a=0, b=1 is a,b=1+(1+0)=2... and so on for the loop\n",
    "         print(a, a<n)\n",
    "    #all values less than a will show \"true\", else \"false\" \n",
    "   \n",
    "fib(30)\n",
    "#not sure how to get 0 in here (and make my function work...)\n"
   ]
  },
  {
   "cell_type": "code",
   "execution_count": 2,
   "metadata": {
    "collapsed": false
   },
   "outputs": [
    {
     "data": {
      "text/plain": [
       "9"
      ]
     },
     "execution_count": 2,
     "metadata": {},
     "output_type": "execute_result"
    }
   ],
   "source": [
    "#Question 2: Define a function mymax() that takes two numbers as arguments and returns the largest of them. \n",
    "#Use the if-then-else construct available in Python. \n",
    "#(It is true that Python has the max() function built in, but writing it yourself is nevertheless a good exercise.)\n",
    "\n",
    "def mymax(a,b):\n",
    "    if a>b: return a #if a is larger than b, we return a (since then, a is max)\n",
    "    else: return b #if b is larger than a, we return b (since then, b would be max)\n",
    "\n",
    "mymax(5,9) #no matter what we define a and b as, this will return the largest number of a and b.\n"
   ]
  },
  {
   "cell_type": "code",
   "execution_count": 9,
   "metadata": {
    "collapsed": false
   },
   "outputs": [
    {
     "data": {
      "text/plain": [
       "80"
      ]
     },
     "execution_count": 9,
     "metadata": {},
     "output_type": "execute_result"
    }
   ],
   "source": [
    "#Question 3: Define a function max_of_three() that takes three numbers as arguments and returns the largest of them.\n",
    "\n",
    "#use question 2 info from above (mymax function) and build new function:\n",
    "def max_of_three(a,b,c):\n",
    "    return mymax( a, mymax( b, c ) ) #first mymax(b,c) will see which is larger, then mymax(a,mymax(b,c)) will see\n",
    "                                     #what is larger between a and whatever was the max for mymax(b,c) and return\n",
    "                                     #the largest number\n",
    "max_of_three(4,6,80)\n"
   ]
  },
  {
   "cell_type": "code",
   "execution_count": 10,
   "metadata": {
    "collapsed": false
   },
   "outputs": [
    {
     "data": {
      "text/plain": [
       "60"
      ]
     },
     "execution_count": 10,
     "metadata": {},
     "output_type": "execute_result"
    }
   ],
   "source": [
    "#Question 3, another way to do it (for own practice):\n",
    "def max_of_three(a,b,c):\n",
    "    if a > b: #rule one\n",
    "        if a > c: #this is within first if function\n",
    "            return a\n",
    "        else:\n",
    "            return c\n",
    "    else: #new rule\n",
    "        if b > c:\n",
    "            return b\n",
    "        else:\n",
    "            return c\n",
    "#Set a, b and c to whatever numbers you'd like\n",
    "a=60\n",
    "b=23\n",
    "c=54\n",
    "max_of_three(a,b,c)\n"
   ]
  },
  {
   "cell_type": "code",
   "execution_count": 5,
   "metadata": {
    "collapsed": false
   },
   "outputs": [
    {
     "name": "stdout",
     "output_type": "stream",
     "text": [
      "5\n"
     ]
    }
   ],
   "source": [
    "#Question 4: Define a function mylen() that computes the length of a given list or string. \n",
    "#(It is true that Python has the len() function built in, but writing it yourself is nevertheless a good exercise.)\n",
    "\n",
    "def mylen(n):\n",
    "    count = 0 #set count to zero\n",
    "    for i in n: #for each letter/string (i) in n\n",
    "        count=count+1   #this will count how many strings (i) are in n\n",
    "    print (count)\n",
    "\n",
    "mylen(\"apple\")\n"
   ]
  },
  {
   "cell_type": "code",
   "execution_count": 9,
   "metadata": {
    "collapsed": false
   },
   "outputs": [
    {
     "data": {
      "text/plain": [
       "'True'"
      ]
     },
     "execution_count": 9,
     "metadata": {},
     "output_type": "execute_result"
    }
   ],
   "source": [
    "#Question 5: Write a function that takes a character (i.e. a string of length 1) and returns True if it is a vowel,\n",
    "#False otherwise.\n",
    "\n",
    "def vowels(char):\n",
    "\n",
    " if (char == \"a\" or char == \"A\" or char == \"e\" or char == \"E\" or char == \"i\" or char == \"I\" or char == \"o\" or \n",
    "     char == \"O\" or char == \"u\" or char == \"U\"): #defining the vowles\n",
    "     return (\"True\") #it is true if the character equals one of the defined characters above (i.e.a vowel)\n",
    " else:\n",
    "     return (\"False\") #returns false since there is no vowel found\n",
    "vowels(\"O\")#change this as needed to whatever letter desired."
   ]
  },
  {
   "cell_type": "code",
   "execution_count": 31,
   "metadata": {
    "collapsed": false
   },
   "outputs": [
    {
     "data": {
      "text/plain": [
       "'tothohisos isos fofunon'"
      ]
     },
     "execution_count": 31,
     "metadata": {},
     "output_type": "execute_result"
    }
   ],
   "source": [
    "#Question 6: Write a function translate() that will translate a text into \"rövarspråket\" (Swedish for \"robber's \n",
    "#language\"). That is, double every consonant and place an occurrence of \"o\" in between. For example, translate\n",
    "#(\"this is fun\") should return the string \"tothohisos isos fofunon\".\n",
    "\n",
    "def translator(char):\n",
    " trans = \"\"\n",
    " for i in char:\n",
    "    if vowels(i)==\"True\": #using function vowels() from question 5 to find vowels for each character \n",
    "         trans = trans+2*str(i) \n",
    "    elif vowels(i) == \"False\": #for consontants, we double them and place an 'o' between the vowel.\n",
    "         trans = trans+str(i)+\"o\"+str(i)\n",
    "\n",
    "    return (trans)\n",
    "\n",
    "translate(\"this is fun\")\n"
   ]
  },
  {
   "cell_type": "code",
   "execution_count": 22,
   "metadata": {
    "collapsed": false
   },
   "outputs": [
    {
     "data": {
      "text/plain": [
       "10"
      ]
     },
     "execution_count": 22,
     "metadata": {},
     "output_type": "execute_result"
    }
   ],
   "source": [
    "#Question 7, part 1 (add): Define a function sum() and a function multiply() that sums and multiplies (respectively)\n",
    "#all the numbers in a list of numbers. For example, sum([1, 2, 3, 4]) should return 10, and multiply([1, 2, 3, 4])\n",
    "#should return 24.\n",
    "\n",
    "#for adding\n",
    "def sum(n):\n",
    "    a=0  #start at zero for addition\n",
    "    for i in n: #for each value in \"n\" \n",
    "        a+=i    #we add them together\n",
    "    return (a)\n",
    "\n",
    "sum([1,2,3,4]) #put the desired numbers you would like to add here\n"
   ]
  },
  {
   "cell_type": "code",
   "execution_count": 21,
   "metadata": {
    "collapsed": false
   },
   "outputs": [
    {
     "data": {
      "text/plain": [
       "24"
      ]
     },
     "execution_count": 21,
     "metadata": {},
     "output_type": "execute_result"
    }
   ],
   "source": [
    "#Question 7: part 2 (multiply):\n",
    "\n",
    "#for multiplying\n",
    "def multiply(n):\n",
    "    b=1 #start at 1 for multiplication \n",
    "    for i in n:\n",
    "        b*=i #multiply here\n",
    "    return (b)\n",
    "\n",
    "multiply([1, 2, 3, 4])#put the desired numbers you would like to multiply here\n",
    "\n"
   ]
  },
  {
   "cell_type": "code",
   "execution_count": 23,
   "metadata": {
    "collapsed": false
   },
   "outputs": [
    {
     "data": {
      "text/plain": [
       "'gnitset ma I'"
      ]
     },
     "execution_count": 23,
     "metadata": {},
     "output_type": "execute_result"
    }
   ],
   "source": [
    "#Question 8: Define a function reverse() that computes the reversal of a string. For example, \n",
    "#reverse(\"I am testing\") should return the string \"gnitset ma I\".\n",
    "\n",
    "def reverse(n):\n",
    "    a=''\n",
    "    b=len(n) #use len() to count number of characters in n\n",
    "\n",
    "    for i in range(0,b): #start range at zero and go to b (which is all the characters in n)\n",
    "     a= a+n[-i-1] #this will reverse characters in n...each letter of n will be backwards here\n",
    "\n",
    "    return (str(a))\n",
    "\n",
    "reverse(\"I am testing\")\n"
   ]
  },
  {
   "cell_type": "code",
   "execution_count": 28,
   "metadata": {
    "collapsed": false
   },
   "outputs": [
    {
     "name": "stdout",
     "output_type": "stream",
     "text": [
      "radar\n"
     ]
    },
    {
     "data": {
      "text/plain": [
       "'True'"
      ]
     },
     "execution_count": 28,
     "metadata": {},
     "output_type": "execute_result"
    }
   ],
   "source": [
    "#Question 9: Define a function is_palindrome() that recognizes palindromes (i.e. words that look the same written \n",
    "#backwards). For example, is_palindrome(\"radar\") should return True.\n",
    "#build off function from question 8:\n",
    "\n",
    "def is_palindrome(n):\n",
    "    a='' \n",
    "    b= len(n) #use len() to count number of characters in n\n",
    "    for i in range(0,b):\n",
    "     a= a+n[-i-1] #as above for len(), this will reverse characters in n\n",
    "    print (str(a))\n",
    "    \n",
    "    if n == a:  return (\"True\") #if the word is the same written backwards and reversed, output will be true\n",
    "    else: return (\"False\")\n",
    "\n",
    "is_palindrome(\"radar\") #change the word here to run function\n"
   ]
  },
  {
   "cell_type": "code",
   "execution_count": 29,
   "metadata": {
    "collapsed": false
   },
   "outputs": [
    {
     "data": {
      "text/plain": [
       "True"
      ]
     },
     "execution_count": 29,
     "metadata": {},
     "output_type": "execute_result"
    }
   ],
   "source": [
    "#Question 10: Write a function is_member() that takes a value (i.e. a number, string, etc) x and a list of values a,\n",
    "#and returns True if x is a member of a, False otherwise. (Note that this is exactly what the in operator does, \n",
    "#but for the sake of the exercise you should pretend Python did not have this operator.)\n",
    "\n",
    "def is_member(x,values): \n",
    "    for i in values: #i represents each item in the list of values \n",
    "        if (i== x): \n",
    "             return (True) #if one of the items on the list of values is equal to x, it will return true\n",
    "    return (False) #if not, it will return false\n",
    "values=['apple','a','carmen'] #change this list of values as desired.\n",
    "is_member('a',values) #change 'a' here to see if it is a member of the list\n"
   ]
  },
  {
   "cell_type": "code",
   "execution_count": 30,
   "metadata": {
    "collapsed": false
   },
   "outputs": [
    {
     "data": {
      "text/plain": [
       "True"
      ]
     },
     "execution_count": 30,
     "metadata": {},
     "output_type": "execute_result"
    }
   ],
   "source": [
    "#Question 11: Define a function overlapping() that takes two lists and returns True if they have at least one member \n",
    "#in common, False otherwise. You may use your Homework is_member() function, or the in operator, but for the sake \n",
    "#of the exercise, you should (also) write it using two nested for-loops.\n",
    "\n",
    "def overlapping(a,b):\n",
    "    for x in a: #for all items in list a\n",
    "        for y in b: #for all items in list b\n",
    "            if x==y: #if one of the items in list a is the same as list b (e.g. \"apple\" is in list a and b)\n",
    "                return (True) #then it will return true \n",
    "    else: return (False) #it will return false if no items in list a and b are the same\n",
    "\n",
    "overlapping(['apple','a','carmen'],[\"123\",\"cat\",\"a\"])   \n"
   ]
  },
  {
   "cell_type": "code",
   "execution_count": 52,
   "metadata": {
    "collapsed": false
   },
   "outputs": [
    {
     "data": {
      "text/plain": [
       "'sssss'"
      ]
     },
     "execution_count": 52,
     "metadata": {},
     "output_type": "execute_result"
    }
   ],
   "source": [
    "#Question 12: Define a function generate_n_chars() that takes an integer n and a character c and returns a string,\n",
    "#n characters long, consisting only of c:s. For example, generate_n_chars(5,\"x\") should return the string \"xxxxx\". \n",
    "#(Python is unusual in that you can actually write an expression 5 * \"x\" that will evaluate to \"xxxxx\". For the \n",
    "#sake of the exercise you should ignore that the problem can be solved in this manner.)\n",
    "\n",
    "def generate_n_chars(n,char):\n",
    "    x=''\n",
    "    for i in range(n): #for the number in n\n",
    "        x=x+char #x will be returned n number of times\n",
    "    return x\n",
    "generate_n_chars(5,'s')"
   ]
  }
 ],
 "metadata": {
  "kernelspec": {
   "display_name": "Python 3",
   "language": "python",
   "name": "python3"
  },
  "language_info": {
   "codemirror_mode": {
    "name": "ipython",
    "version": 3
   },
   "file_extension": ".py",
   "mimetype": "text/x-python",
   "name": "python",
   "nbconvert_exporter": "python",
   "pygments_lexer": "ipython3",
   "version": "3.5.1"
  }
 },
 "nbformat": 4,
 "nbformat_minor": 0
}
